{
 "cells": [
  {
   "cell_type": "markdown",
   "metadata": {},
   "source": [
    "# Example of how to use LLMs.\n",
    "\n",
    "The examples show how to use LLMs from a local model - using Ollama - and from an external model - using OpenAI.\n",
    "\n",
    "## Using a local model\n",
    "\n",
    "Using a local model has the advantage of being able to run the model offline. The disadvantage is that the model may not be as good as a model from a large company like OpenAI.\n",
    "\n",
    "To install Ollama, follow the instructions at their [download homepage](https://ollama.com/download).\n",
    "\n",
    "Once you have Ollama installed, you need to dpwnload a model. You can see the available models from the [Ollama models page](https://ollama.com/models). For example, to install _llama3_ you will type on your terminal.\n",
    "\n",
    "```bash\n",
    "ollama pull mistral\n",
    "```\n",
    "\n",
    "You can then use the model directly using ollama's [RESTful API](https://github.com/ollama/ollama/blob/main/docs/api.md).\n",
    "\n",
    "In this notebook, we will show how to use [LangChain](https://python.langchain.com/v0.2/docs/introduction/) to interact with the model."
   ]
  },
  {
   "cell_type": "code",
   "execution_count": 1,
   "metadata": {},
   "outputs": [
    {
     "data": {
      "text/plain": [
       "\"Here's one:\\n\\nWhy did the chicken go to the doctor?\\n\\nBecause it had a fowl cough!\\n\\nHope that made you cluck with laughter!\""
      ]
     },
     "execution_count": 1,
     "metadata": {},
     "output_type": "execute_result"
    }
   ],
   "source": [
    "from langchain_community.llms import Ollama\n",
    "from langchain_core.output_parsers import StrOutputParser\n",
    "from langchain_core.prompts import ChatPromptTemplate\n",
    "\n",
    "llm = Ollama(model=\"llama3\", temperature=0.25, keep_alive='10m')\n",
    "parser = StrOutputParser()\n",
    "\n",
    "template = ChatPromptTemplate.from_messages([(\"system\", \"\"), (\"user\", \"Tell me a joke about {topic}\")])\n",
    "\n",
    "chain = template | llm | parser\n",
    "chain.invoke({\"topic\": \"chickens\"})\n"
   ]
  },
  {
   "cell_type": "markdown",
   "metadata": {},
   "source": [
    "## Using an external model\n",
    "\n",
    "Using an external model has the advantage of accesing more powerful models. The disadvantage is that you need to have an internet connection, and pay $$ to use the model.\n",
    "\n",
    "This notebook assumes that you know how to get an API key from OpenAI, and that the key is stored in an environment variable called `OPENAI_API_KEY`.\n",
    "\n",
    "Other options are available, like [Groq](https://groq.com/), Mistral and Anthropic."
   ]
  },
  {
   "cell_type": "code",
   "execution_count": 2,
   "metadata": {},
   "outputs": [],
   "source": [
    "# read secrets ------------------------------------------------\n",
    "import json\n",
    "import os\n",
    "\n",
    "# you define your on secrets.json file with the following structure\n",
    "# {\n",
    "#     \"openai\": \"your-openai-api-key\",\n",
    "#     \"groq\": \"your-groq-api-key\"\n",
    "# }\n",
    "\n",
    "with open(\"./secrets.json\") as f:\n",
    "    secrets = json.load(f)\n",
    "\n",
    "os.environ[\"OPENAI_API_KEY\"] = secrets[\"openai\"]\n",
    "os.environ[\"GROQ_API_KEY\"] = secrets[\"groq\"]"
   ]
  },
  {
   "cell_type": "code",
   "execution_count": 6,
   "metadata": {},
   "outputs": [
    {
     "data": {
      "text/plain": [
       "\"Sure! Here's a joke about chickens:\\n\\nWhy did the chicken go to the seance?\\n\\nTo talk to the other side!\""
      ]
     },
     "execution_count": 6,
     "metadata": {},
     "output_type": "execute_result"
    }
   ],
   "source": [
    "from langchain_openai import ChatOpenAI\n",
    "\n",
    "parser = StrOutputParser()\n",
    "\n",
    "model = ChatOpenAI(model=\"gpt-4o\")\n",
    "\n",
    "\n",
    "template = ChatPromptTemplate.from_messages([(\"system\", \"You communicate in {language}\"), (\"user\", \"Tell me a joke about {topic}\")])\n",
    "\n",
    "chain = template | model | parser\n",
    "chain.invoke({\"topic\": \"chickens\", \"language\": \"spanish\"})\n"
   ]
  },
  {
   "cell_type": "markdown",
   "metadata": {},
   "source": [
    "## Example: Using a model to summarize a document\n",
    "\n",
    "In this example, we will use a model to summarize a document. We assume that that the document is local and its called `Personal_Fitness_Tracker.html`."
   ]
  },
  {
   "cell_type": "code",
   "execution_count": 7,
   "metadata": {},
   "outputs": [],
   "source": [
    "# Let's first load a document\n",
    "\n",
    "from langchain_community.document_loaders import UnstructuredFileLoader\n",
    "\n",
    "files = [\"./documents/Personal_Fitness_Tracker.html\"]\n",
    "loader = UnstructuredFileLoader(files, show_progress=True)\n",
    "\n",
    "docs = loader.load()"
   ]
  },
  {
   "cell_type": "code",
   "execution_count": 8,
   "metadata": {},
   "outputs": [
    {
     "data": {
      "text/plain": [
       "'The personal fitness tracker market has seen substantial growth in recent years, driven by increasing health awareness and the adoption of wearable technology. Valued at $17.9 billion in 2019, the market is projected to reach $62.1 billion by 2027, growing at a compound annual growth rate of 16.7%. Notable companies in this space include Fitbit, Apple Watch, Garmin, Samsung Gear Fit, and Xiaomi Mi Band. These companies offer various features and cater to different user segments, with Fitbit focusing on a wide range of products and strong brand recognition, Apple Watch on advanced health tracking and seamless integration with Apple devices, Garmin on comprehensive sports and outdoor activity tracking, Samsung Gear Fit on well-rounded features and seamless integration with Samsung devices, and Xiaomi Mi Band on affordability. Despite opportunities in integration with telemedicine, remote patient monitoring, and emerging markets, the market faces challenges such as data privacy concerns, limited battery life, market saturation, and intense competition. Manufacturers should prioritize ease of use, accuracy, reliability, smartphone integration, battery life, and data privacy to address consumer preferences and stay competitive in the growing fitness tracker market.'"
      ]
     },
     "execution_count": 8,
     "metadata": {},
     "output_type": "execute_result"
    }
   ],
   "source": [
    "# then lets use templates to make an editor that can do different operation on a document\n",
    "\n",
    "from langchain_openai import ChatOpenAI\n",
    "from langchain_core.prompts import ChatPromptTemplate\n",
    "from langchain_groq import ChatGroq\n",
    "from langchain_community.llms import Ollama\n",
    "\n",
    "parser = StrOutputParser()\n",
    "\n",
    "# model = ChatOpenAI(model=\"gpt-4o\")\n",
    "model = ChatGroq(temperature=0.25, model_name=\"mixtral-8x7b-32768\")\n",
    "# model = Ollama(model=\"phi3\", temperature=0.25, keep_alive='10m')\n",
    "\n",
    "\n",
    "template = ChatPromptTemplate.from_messages([(\"system\", \"You are a capable copyeditor.\"), (\"user\", \"Perform the following operation {operation} the following document {document}\")])\n",
    "\n",
    "chain = template | model | parser\n",
    "chain.invoke({\"operation\": \"summarize in one paragraph\", \"document\": docs[0]})"
   ]
  }
 ],
 "metadata": {
  "kernelspec": {
   "display_name": "summer-school-24-wpJ3waSW-py3.11",
   "language": "python",
   "name": "python3"
  },
  "language_info": {
   "codemirror_mode": {
    "name": "ipython",
    "version": 3
   },
   "file_extension": ".py",
   "mimetype": "text/x-python",
   "name": "python",
   "nbconvert_exporter": "python",
   "pygments_lexer": "ipython3",
   "version": "3.11.3"
  }
 },
 "nbformat": 4,
 "nbformat_minor": 2
}
