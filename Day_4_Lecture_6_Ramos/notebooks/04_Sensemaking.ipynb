{
 "cells": [
  {
   "cell_type": "markdown",
   "metadata": {},
   "source": [
    "# Sensemaking Activities\n",
    "\n",
    "Use this notebook to implement some sensemaking augentations. Feel free to use code snippets from previous notebooks as well as frameworks you are familiar with."
   ]
  },
  {
   "cell_type": "markdown",
   "metadata": {},
   "source": [
    "## Define a set of documents to work with\n",
    "\n",
    "Examples include:\n",
    "\n",
    "- Bookmarks from a web browser (you can export them from the browser's bookmark or favorites manager)\n",
    "- Browsing history (also, exportable from the browser)\n",
    "- Open tabs (this can be a bit more involved, but extensions such as Onetab can help)\n"
   ]
  },
  {
   "cell_type": "markdown",
   "metadata": {},
   "source": [
    "## Once you have some documents, make sense of them, find meaning in them...\n",
    "\n",
    "Examples include:\n",
    "\n",
    "- Propose Schema / Classes\n",
    "- Given schema, organize (label/tag) documents\n",
    "- Given schema + tagged documents, communicate story/insights\n",
    "- ... \n"
   ]
  },
  {
   "cell_type": "code",
   "execution_count": null,
   "metadata": {},
   "outputs": [],
   "source": [
    "\n",
    "# Propose classes (pseudo code)\n",
    "\n",
    "# 1. load documents\n",
    "# 2. summarize documents\n",
    "# 3. craft metaprompt that takes list of sumaries and proposes a schema or set of classes"
   ]
  },
  {
   "cell_type": "code",
   "execution_count": null,
   "metadata": {},
   "outputs": [],
   "source": [
    "# Given a schema, use it to tag the documents\n",
    "\n",
    "# 1. load documents (or summaries)\n",
    "# 2. create one or more metaprompts that take a document and a schema and assign tags to the document\n",
    "#   2.1. one metaprompt for all tags\n",
    "#   2.2. one metaprompt for each tag\n"
   ]
  },
  {
   "cell_type": "code",
   "execution_count": null,
   "metadata": {},
   "outputs": [],
   "source": [
    "# Given a schema, and a set of tagged documents, communicte the insight or story within\n",
    "\n",
    "# 1. load documents (or summaries) + tags\n",
    "# 2. load schema\n",
    "# 3. craft metaprompt that tells the story. This is ussually the initial goal of the sensemaking activity, e.g. a research about a particular topic.\n",
    "\n"
   ]
  }
 ],
 "metadata": {
  "language_info": {
   "name": "python"
  }
 },
 "nbformat": 4,
 "nbformat_minor": 2
}
