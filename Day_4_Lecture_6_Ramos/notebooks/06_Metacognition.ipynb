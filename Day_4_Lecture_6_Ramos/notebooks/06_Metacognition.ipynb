{
 "cells": [
  {
   "cell_type": "markdown",
   "metadata": {},
   "source": [
    "# Metacognition Activities\n",
    "\n",
    "Use this notebook to implement some ways to support (or reduce demands to) metacognition. Feel free to use code snippets from previous notebooks as well as frameworks you are familiar with."
   ]
  },
  {
   "cell_type": "code",
   "execution_count": null,
   "metadata": {},
   "outputs": [],
   "source": [
    "## Help evaluate the quality / alignment of GenAI outputs\n",
    "\n",
    "# Draft pseudo code - or use our own strategy\n",
    "\n",
    "# 1. Given an output that support some cognitive task\n",
    "# 2. Define a set of metrics to evaluate the quality of the output\n",
    "# 3. Create a prompt that evaluates the output and explains how the results aligns with the desired outcome.\n"
   ]
  },
  {
   "cell_type": "code",
   "execution_count": null,
   "metadata": {},
   "outputs": [],
   "source": [
    "## Generate output using progressive disclosure principles (reduce cognitive demand of evaluation for GenAi output)\n",
    "\n",
    "# Draft pseudo code - or use our own\n",
    "\n",
    "# 1. Craft of use a prompt that initially generate a long output\n",
    "# 2. Design a strategy to progressively disclose the output to the user\n",
    "# 2.1 (e.g.) Produce n versions of the output with different levels of detail, and ask the user to select the level of detail they want to see"
   ]
  },
  {
   "cell_type": "code",
   "execution_count": null,
   "metadata": {},
   "outputs": [],
   "source": [
    "## Using a text adventure game metaphor, given a task goal and a series of steps, use GenAI to suggest what a user should do next.\n",
    "\n",
    "# Draft pseudo code - or use our own\n",
    "\n",
    "# 1. Come up with a task and a series of actions that a user has taken so far.\n",
    "# 2. Craft a prompt that asseses the current state of the task\n",
    "# 3. Craft a prompt that given the above information suggests the next step in the task, or if the taskis complete."
   ]
  }
 ],
 "metadata": {
  "language_info": {
   "name": "python"
  }
 },
 "nbformat": 4,
 "nbformat_minor": 2
}
