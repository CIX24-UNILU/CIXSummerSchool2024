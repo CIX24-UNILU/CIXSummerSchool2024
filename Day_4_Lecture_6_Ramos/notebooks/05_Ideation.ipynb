{
 "cells": [
  {
   "cell_type": "markdown",
   "metadata": {},
   "source": [
    "# Ideation Activities\n",
    "\n",
    "Use this notebook to implement some sensemaking augentations. Feel free to use code snippets from previous notebooks as well as frameworks you are familiar with."
   ]
  },
  {
   "cell_type": "markdown",
   "metadata": {},
   "source": [
    "## Gather a (set of) document(s) to work with as context\n",
    "\n",
    "Examples include:\n",
    "\n",
    "- A set of text documents you have collected\n",
    "- A design brief you generate with GPTX\n",
    "- The set of provided `documents` in the project"
   ]
  },
  {
   "cell_type": "markdown",
   "metadata": {},
   "source": [
    "## Once you have your context, you can start to implement some sensemaking augmentations\n",
    "\n",
    "Examples include:\n",
    "\n",
    "- Help a person define a SMART creative goal\n",
    "- Given an ‘idea brief’, generate n ideas\n",
    "- Given n ideas, reflect & convergence to reduce them to m < n\n",
    "- Implement a creativity operation\n",
    "  - Find gaps in an idea\n",
    "  - Constructive Critique\n",
    "  ...\n",
    "\n",
    "- Given an idea, package as a story/presentation for audience X"
   ]
  },
  {
   "cell_type": "code",
   "execution_count": null,
   "metadata": {},
   "outputs": [],
   "source": [
    "\n",
    "# Help someone define a SMART goal\n",
    "\n",
    "# craft a metaprompt that checks for the qualities of a smart prompt and suggest improvements\n",
    "\n",
    "# [According to ChatGPT... :)]\n",
    "\n",
    "# A SMART goal is a specific framework used to set objectives that are clear, achievable, and measurable. The acronym SMART stands for Specific, Measurable, Achievable, Relevant, and Time-bound. Here’s a breakdown of each component:\n",
    "\n",
    "# Specific\n",
    "\n",
    "# \t•\tDefinition: The goal should be clear and specific, leaving no room for ambiguity.\n",
    "# \t•\tQuestions to ask: What do I want to accomplish? Why is this goal important? Who is involved? Where is it located? Which resources or constraints are involved?\n",
    "\n",
    "# Measurable\n",
    "\n",
    "# \t•\tDefinition: The goal should include criteria for measuring progress and success.\n",
    "# \t•\tQuestions to ask: How much? How many? How will I know when it is accomplished?\n",
    "\n",
    "# Achievable\n",
    "\n",
    "# \t•\tDefinition: The goal should be realistic and attainable, considering the available resources and constraints.\n",
    "# \t•\tQuestions to ask: How can I accomplish this goal? How realistic is the goal based on other constraints?\n",
    "\n",
    "# Relevant\n",
    "\n",
    "# \t•\tDefinition: The goal should matter to you and align with other relevant goals.\n",
    "# \t•\tQuestions to ask: Does this seem worthwhile? Is this the right time? Does this match our other efforts/needs? Are you the right person to reach this goal?\n",
    "\n",
    "# Time-bound\n",
    "\n",
    "# \t•\tDefinition: The goal should have a deadline or a specific timeframe.\n",
    "# \t•\tQuestions to ask: When? What can I do six months from now? What can I do six weeks from now? What can I do today?\n"
   ]
  },
  {
   "cell_type": "code",
   "execution_count": null,
   "metadata": {},
   "outputs": [],
   "source": [
    "# Given an idea brief + some contextual research, suggest n ideas to deliver what the brief asks for\n",
    "\n",
    "# 1. load brief and / or research\n",
    "# 2. incorporate brief and / or research into a meta prompt\n",
    "# 3. use output to refine context if needed and repeat..."
   ]
  },
  {
   "cell_type": "code",
   "execution_count": null,
   "metadata": {},
   "outputs": [],
   "source": [
    "# Given n ideas, reflect and reduce them to m << n ideas\n",
    "\n",
    "# 1. Enumerate pros and cons of each idea\n",
    "# 2. Craft meta prompt to reflect on the pros and cons and merge/integrate ideas based on the reflection"
   ]
  },
  {
   "cell_type": "code",
   "execution_count": null,
   "metadata": {},
   "outputs": [],
   "source": [
    "# Implement a creativity operation\n",
    "\n",
    "# 1. Craft the corresponding metaprompt..."
   ]
  }
 ],
 "metadata": {
  "language_info": {
   "name": "python"
  }
 },
 "nbformat": 4,
 "nbformat_minor": 2
}
