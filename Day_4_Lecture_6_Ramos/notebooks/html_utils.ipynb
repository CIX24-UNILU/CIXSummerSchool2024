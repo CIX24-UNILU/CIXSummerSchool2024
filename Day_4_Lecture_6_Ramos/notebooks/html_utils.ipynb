{
 "cells": [
  {
   "cell_type": "markdown",
   "metadata": {},
   "source": [
    "# HTML utils\n",
    "\n",
    "This notebook contains some utility functions to process HTML files. \n",
    "\n",
    "This can be useful as you create a document set to try ideas about about augmenting and supporting sensemaking, ideation, etc. using AI."
   ]
  },
  {
   "cell_type": "code",
   "execution_count": 1,
   "metadata": {},
   "outputs": [],
   "source": [
    "from markdownify import markdownify as md\n",
    "from bs4 import BeautifulSoup, Comment\n",
    "\n",
    "def html_to_markdown(html_file_path, output_file_path=None):\n",
    "    # Read the HTML file\n",
    "    with open(html_file_path, 'r', encoding='utf-8') as file:\n",
    "        html_content = file.read()\n",
    "    \n",
    "    # Optionally clean the HTML content using BeautifulSoup\n",
    "    soup = BeautifulSoup(html_content, 'lxml')\n",
    "    \n",
    "    # Remove <script> and <style> elements\n",
    "    # for script_or_style in soup(['script', 'style']):\n",
    "    #     script_or_style.decompose()\n",
    "\n",
    "    # Remove HTML comments\n",
    "    for comment in soup.find_all(string=lambda text: isinstance(text, Comment)):\n",
    "        comment.extract()\n",
    "\n",
    "    # Convert cleaned HTML to Markdown\n",
    "    markdown_content = md(str(soup))\n",
    "    \n",
    "    #replace extra newlines with two newlines\n",
    "    markdown_content = markdown_content.replace(\"\\n\\n\\n\", \"\\n\\n\")\n",
    "\n",
    "    # Optionally write the Markdown content to an output file\n",
    "    if output_file_path:\n",
    "        with open(output_file_path, 'w', encoding='utf-8') as output_file:\n",
    "            output_file.write(markdown_content)\n",
    "    \n",
    "    return markdown_content\n"
   ]
  },
  {
   "cell_type": "code",
   "execution_count": null,
   "metadata": {},
   "outputs": [],
   "source": [
    "# Example usage\n",
    "markdown_content = html_to_markdown('dummy.html', 'output.md')\n",
    "print(markdown_content)\n"
   ]
  }
 ],
 "metadata": {
  "kernelspec": {
   "display_name": "summer-school-24-wpJ3waSW-py3.11",
   "language": "python",
   "name": "python3"
  },
  "language_info": {
   "codemirror_mode": {
    "name": "ipython",
    "version": 3
   },
   "file_extension": ".py",
   "mimetype": "text/x-python",
   "name": "python",
   "nbconvert_exporter": "python",
   "pygments_lexer": "ipython3",
   "version": "3.11.3"
  }
 },
 "nbformat": 4,
 "nbformat_minor": 2
}
