{
 "cells": [
  {
   "cell_type": "markdown",
   "metadata": {},
   "source": [
    "# XoT Tutorial"
   ]
  },
  {
   "cell_type": "code",
   "execution_count": 1,
   "metadata": {},
   "outputs": [],
   "source": [
    "%load_ext autoreload\n",
    "%autoreload 2"
   ]
  },
  {
   "cell_type": "markdown",
   "metadata": {},
   "source": [
    "## Prepare your OpenAI GPT Model\n",
    "\n",
    "* Import OpenAI model with langchain. \n",
    "* You may run this part of code prior to the course to make sure that the model is ready.\n",
    "\n"
   ]
  },
  {
   "cell_type": "code",
   "execution_count": 2,
   "metadata": {},
   "outputs": [],
   "source": [
    "import os\n",
    "from dotenv import load_dotenv\n",
    "\n",
    "import langchain\n",
    "from langchain_openai import AzureChatOpenAI, ChatOpenAI\n",
    "\n",
    "from langchain.globals import set_llm_cache\n",
    "from langchain.cache import SQLiteCache\n",
    "\n",
    "set_llm_cache(\n",
    "    SQLiteCache(database_path=\".langchain_cache.db\")\n",
    ")  # setup cache for the LLM\n",
    "\n",
    "langchain.debug = False  # set verbose mode to True to show more execution details\n",
    "\n",
    "load_dotenv()\n",
    "\n",
    "# Use Azure's models\n",
    "langchain_llm = AzureChatOpenAI(\n",
    "    azure_endpoint=os.getenv(\"MY_AZURE_ENDPOINT\"),\n",
    "    api_key=os.getenv(\"MY_AZURE_API_KEY\"),\n",
    "    api_version=os.getenv(\"MY_AZURE_API_VERSION\"),\n",
    "    azure_deployment=os.getenv(\"MY_AZURE_DEPLOYMENT_NAME\"),\n",
    "    verbose=True,\n",
    ")\n",
    "\n",
    "# Or use OpenAI's model\n",
    "langchain_llm = ChatOpenAI(\n",
    "    base_url=os.getenv(\"MY_OPENAI_API_BASE\"),\n",
    "    api_key=os.getenv(\"MY_OPENAI_API_KEY\"),\n",
    "    model=\"gpt-4o\",\n",
    "    verbose=True,\n",
    ")"
   ]
  },
  {
   "cell_type": "code",
   "execution_count": 3,
   "metadata": {},
   "outputs": [
    {
     "data": {
      "text/plain": [
       "AIMessage(content=\"LLM can refer to different things depending on the context:\\n\\n1. **Master of Laws (LL.M.)**: This is an advanced, postgraduate academic degree in law. It is typically pursued by individuals who already have a first degree in law and wish to gain specialized knowledge in a particular area of legal practice, such as international law, human rights law, or commercial law.\\n\\n2. **Large Language Model (LLM)**: In the field of artificial intelligence and natural language processing, an LLM refers to a model that has been trained on vast amounts of text data to understand and generate human language. Examples of such models include OpenAI's GPT-3, Google's BERT, and others. These models can be used for a variety of applications, including text generation, translation, summarization, and more.\\n\\nIf you were referring to a different context, please provide more details!\", response_metadata={'token_usage': {'completion_tokens': 178, 'prompt_tokens': 12, 'total_tokens': 190}, 'model_name': 'gpt-4o', 'system_fingerprint': 'fp_43dfabdef1', 'finish_reason': 'stop', 'logprobs': None}, id='run-348f36e6-b446-46c5-8881-fff9dc9a512c-0')"
      ]
     },
     "execution_count": 3,
     "metadata": {},
     "output_type": "execute_result"
    }
   ],
   "source": [
    "# a debug line to show you have the correct model setup\n",
    "# If your set up is successful, it shows something like \n",
    "# AIMessage(content=\"LLM can refer to different ... \n",
    "langchain_llm.invoke(\"What is LLM?\")"
   ]
  },
  {
   "cell_type": "markdown",
   "metadata": {
    "vscode": {
     "languageId": "plaintext"
    }
   },
   "source": [
    "## Direct Use of LLM\n",
    "\n",
    "* Practice the use of LLM with langchain.\n",
    "* Intent classifier: does the user want to have its tablet repaired?"
   ]
  },
  {
   "cell_type": "code",
   "execution_count": 4,
   "metadata": {},
   "outputs": [],
   "source": [
    "from utils.intent_classifier import intent_classifier_prompt, intent_classifier_parser\n",
    "\n",
    "intent_classifier_chain = (\n",
    "    intent_classifier_prompt | langchain_llm | intent_classifier_parser\n",
    ")"
   ]
  },
  {
   "cell_type": "code",
   "execution_count": 5,
   "metadata": {},
   "outputs": [
    {
     "data": {
      "text/plain": [
       "{'want_to_repair': 'Yes',\n",
       " 'utterance': \"Sure, I can help you with your iPad's Bluetooth issue. Let's start by troubleshooting the problem.\"}"
      ]
     },
     "execution_count": 5,
     "metadata": {},
     "output_type": "execute_result"
    }
   ],
   "source": [
    "prompt = intent_classifier_prompt.invoke({\"user_input\": \"My ipad cannot connect to bluetooth, I'm here to get some support.\"})\n",
    "output = langchain_llm.invoke(prompt)\n",
    "intent_classifier_parser.invoke(output)"
   ]
  },
  {
   "cell_type": "code",
   "execution_count": 6,
   "metadata": {},
   "outputs": [
    {
     "data": {
      "text/plain": [
       "{'want_to_repair': 'Yes',\n",
       " 'utterance': \"Sure, I can help you with your iPad's Bluetooth issue. Let's start by troubleshooting the problem.\"}"
      ]
     },
     "execution_count": 6,
     "metadata": {},
     "output_type": "execute_result"
    }
   ],
   "source": [
    "intent_classifier_chain.invoke(\n",
    "    {\"user_input\": \"My ipad cannot connect to bluetooth, I'm here to get some support.\"}\n",
    ")"
   ]
  },
  {
   "cell_type": "markdown",
   "metadata": {},
   "source": [
    "## Chain of Thoughts Prompting\n",
    "\n",
    "* Practice the use of CoT with langchain.\n",
    "* Use warranty checker as an example."
   ]
  },
  {
   "cell_type": "code",
   "execution_count": 7,
   "metadata": {},
   "outputs": [],
   "source": [
    "from utils.warranty_module import warranty_parser, warranty_checker_prompt\n",
    "\n",
    "\n",
    "warranty_checker_chain = warranty_checker_prompt | langchain_llm"
   ]
  },
  {
   "cell_type": "code",
   "execution_count": 8,
   "metadata": {},
   "outputs": [
    {
     "data": {
      "text/plain": [
       "[SystemMessage(content=\"You are a helpful agent that help to decide if a product is out of warranty. Note that all product come with a 90-day warranty since purchase. Customer can also purchase additional warranty that extends it to 2 years. Today is May 20th, 2024. Reply if the product has warranty or not. If the product has warranty, reply 'Yes'. If the product does not have warranty, reply 'No'. If you are unsure, reply 'Unsure'.\"),\n",
       " HumanMessage(content='A month ago'),\n",
       " AIMessage(content=\"Analysis: Let's think step by step. All products come with a 90-day warranty since purchase. A month is within the 90-day time span. The product must have warranty. Warranty: Yes. Utterance: Great! Your product has warranty.\"),\n",
       " HumanMessage(content='Last year.'),\n",
       " AIMessage(content=\"Analysis: Let's think step by step. All products come with a 90-day warranty. A year is more than this time span. However, we are not sure if the user purchased additional warranty. We are not sure if the product has warranty. Warranty: Unsure. Utterance: Did you purchase additional warranty?\"),\n",
       " HumanMessage(content='the screen is broken'),\n",
       " AIMessage(content=\"Analysis: Let's think step by step. The user didn't provided a time information, we cannot tell if it has warranty. Warranty: Unsure. Utterance: I am sorry to hear that. But I need to know if the product has warranty. Could you provide me the time of purchase?\"),\n",
       " HumanMessage(content='I am not sure'),\n",
       " AIMessage(content=\"Analysis: Let's think step by step. The user is unsure about the warranty. Let's ask about when the product is purchased. Warranty: Unsure. Utterance: I am sorry to hear that. But I need to know if the product has warranty. Could you provide me the time of purchase?\"),\n",
       " HumanMessage(content='I want to check my warranty status.\\nThe output should be formatted as a JSON instance that conforms to the JSON schema below.\\n\\nAs an example, for the schema {\"properties\": {\"foo\": {\"title\": \"Foo\", \"description\": \"a list of strings\", \"type\": \"array\", \"items\": {\"type\": \"string\"}}}, \"required\": [\"foo\"]}\\nthe object {\"foo\": [\"bar\", \"baz\"]} is a well-formatted instance of the schema. The object {\"properties\": {\"foo\": [\"bar\", \"baz\"]}} is not well-formatted.\\n\\nHere is the output schema:\\n```\\n{\"properties\": {\"Analysis\": {\"title\": \"Analysis\", \"description\": \"AI\\'s analysis of the current situation\", \"type\": \"string\"}, \"Warranty\": {\"title\": \"Warranty\", \"description\": \"Whether the use\\'s product have a warranty\", \"type\": \"string\"}, \"Utterance\": {\"title\": \"Utterance\", \"description\": \"AI\\'s response to the user\", \"type\": \"string\"}}, \"required\": [\"Analysis\", \"Warranty\", \"Utterance\"]}\\n```')]"
      ]
     },
     "execution_count": 8,
     "metadata": {},
     "output_type": "execute_result"
    }
   ],
   "source": [
    "warranty_checker_prompt.invoke({\"user_input\": \"I want to check my warranty status.\"}).to_messages()"
   ]
  },
  {
   "cell_type": "code",
   "execution_count": 9,
   "metadata": {},
   "outputs": [
    {
     "data": {
      "text/plain": [
       "{'Analysis': 'The product was purchased on May 1st, 2023. The standard 90-day warranty would have expired on July 30th, 2023. Since today is May 20th, 2024, the product is out of the standard warranty period. Without information on an additional 2-year warranty purchase, I cannot confirm if the product is still under warranty.',\n",
       " 'Warranty': 'Unsure',\n",
       " 'Utterance': 'Since the standard warranty period has expired, did you purchase an additional warranty to extend it?'}"
      ]
     },
     "execution_count": 9,
     "metadata": {},
     "output_type": "execute_result"
    }
   ],
   "source": [
    "output = warranty_checker_chain.invoke({\"user_input\": \"I bought this item on May 1st, 2023.\"})\n",
    "warranty_parser.invoke(output)"
   ]
  },
  {
   "cell_type": "markdown",
   "metadata": {},
   "source": [
    "## Self-Consistency with CoT\n",
    "\n",
    "* We use self-consistent CoT to practice repair plan suggestion. Available plans are repair, replace and trade-in options. \n",
    "* Three CoT and a final evaluator. Following the structures below:\n",
    "\n",
    "\n",
    "<center><img src=\"doc/figs/XoT_Tutorial_Diagrams-CoT-SC.svg\" alt=\"CoT-SC Structure\" style=\"width: 400px;\"/></center>"
   ]
  },
  {
   "cell_type": "code",
   "execution_count": 10,
   "metadata": {},
   "outputs": [],
   "source": [
    "from utils.repair_strategy import repair_strategy_prompt, repair_parser\n",
    "from utils.replace_strategy import replacement_strategy_prompt, replacement_parser\n",
    "from utils.tradein_strategy import tradein_strategy_prompt, tradein_parser\n",
    "\n",
    "repair_strategy_chain = repair_strategy_prompt | langchain_llm\n",
    "replacement_strategy_chain = replacement_strategy_prompt | langchain_llm\n",
    "tradein_strategy_chain = tradein_strategy_prompt | langchain_llm"
   ]
  },
  {
   "cell_type": "code",
   "execution_count": 11,
   "metadata": {},
   "outputs": [
    {
     "data": {
      "text/plain": [
       "{'Analysis': \"Let's think step by step. The cost for fixing the screen is 120 USD, and the cost for fixing the battery is 30 USD. The total cost is 150 USD.\",\n",
       " 'Cost': '150 USD',\n",
       " 'Utterance': 'The total cost to fix the product is 150 USD.'}"
      ]
     },
     "execution_count": 11,
     "metadata": {},
     "output_type": "execute_result"
    }
   ],
   "source": [
    "repair_strategy_chain.invoke(\n",
    "    {\"user_input\": \"I want to repair my device. The screen and the battery are broken.\"}\n",
    ")\n",
    "repair_parser.invoke(\n",
    "    repair_strategy_chain.invoke(\n",
    "        {\n",
    "            \"user_input\": \"I want to repair my device. The screen and the battery are broken.\"\n",
    "        }\n",
    "    )\n",
    ")"
   ]
  },
  {
   "cell_type": "code",
   "execution_count": 12,
   "metadata": {},
   "outputs": [
    {
     "data": {
      "text/plain": [
       "{'Analysis': 'The user has a malfunctioning keyboard. This is a significant issue that can greatly impact the usability of the device.',\n",
       " 'Coupon': '100 USD',\n",
       " 'Utterance': 'You can get a 100 USD coupon if you want to trade in your old device for a new one.'}"
      ]
     },
     "execution_count": 12,
     "metadata": {},
     "output_type": "execute_result"
    }
   ],
   "source": [
    "tradein_strategy_chain.invoke(\n",
    "    {\"user_input\": \"I want to trade in my device. The keyboard is not working\"}\n",
    ")\n",
    "tradein_parser.invoke(\n",
    "    tradein_strategy_chain.invoke(\n",
    "        {\"user_input\": \"I want to trade in my device. The keyboard is not working\"}\n",
    "    )\n",
    ")"
   ]
  },
  {
   "cell_type": "code",
   "execution_count": 13,
   "metadata": {},
   "outputs": [
    {
     "data": {
      "text/plain": [
       "{'Analysis': 'The user does not have a warranty, so they cannot get a replacement for the broken screen.',\n",
       " 'Valid': 'No',\n",
       " 'Utterance': \"I'm sorry, but you cannot get a replacement for the screen. Only products with warranty can be replaced.\"}"
      ]
     },
     "execution_count": 13,
     "metadata": {},
     "output_type": "execute_result"
    }
   ],
   "source": [
    "replacement_strategy_chain.invoke({\"user_input\": \"The screen is broken, I want to replace it.\", \"additional_info\": \"No warranty\"})\n",
    "replacement_parser.invoke(replacement_strategy_chain.invoke({\"user_input\": \"The screen is broken, I want to replace it.\", \"additional_info\": \"No warranty\"}))"
   ]
  },
  {
   "cell_type": "code",
   "execution_count": 14,
   "metadata": {},
   "outputs": [],
   "source": [
    "from utils.plan_selection import plan_selection_prompt, plan_parser\n",
    "\n",
    "plan_evaluater_chain = plan_selection_prompt | langchain_llm"
   ]
  },
  {
   "cell_type": "code",
   "execution_count": 15,
   "metadata": {},
   "outputs": [
    {
     "data": {
      "text/plain": [
       "{'Analysis': 'Your device can be replaced at no cost. Alternatively, you can repair it for 150 USD or trade it in for a 100 USD coupon towards a new device, which costs 249 USD. With the trade-in, you would spend 149 USD on the new device.',\n",
       " 'Cost': '0 USD',\n",
       " 'Plan': 'Replace',\n",
       " 'Utterance': 'We can replace your device at no additional cost. Alternatively, you can repair the device for 150 USD, or trade it in for a 100 USD coupon towards a new device priced at 249 USD, making your total cost for a new device 149 USD. Please let us know which option you prefer.'}"
      ]
     },
     "execution_count": 15,
     "metadata": {},
     "output_type": "execute_result"
    }
   ],
   "source": [
    "plan_evaluater_chain.invoke(\n",
    "    {\n",
    "        \"replace_plan\": \"I'm sorry, but you cannot get a replacement. Only products with warranty can be replaced.\",\n",
    "        \"repair_plan\": \"The total cost to fix the product is 150 USD.\",\n",
    "        \"tradein_plan\": \"You can get a 100 USD coupon if you want to trade in your old device for a new one.\",\n",
    "        \"user_preference\": \"None\",\n",
    "        \"selected_plan\": \"repair\",\n",
    "        \"ai_analysis\": \"Let's thing step by step. The cost for a new device is 249 USD, the user can get a coupon so he will spend 149 USD for the new device. The cost for fixing the old device is 150 USD. Therefore, it is better to buy a new device as the cost is almost the same.\",\n",
    "        \"ai_response\": \"Maybe you should consider buying a new device instead of fixing the old one. The cost for fixing the old device is 150 USD, and the cost for a new device is 249 USD. You can get a 100 USD coupon if you want to trade in your old device for a new one. The total cost to fix the product is 150 USD.\",\n",
    "    }\n",
    ")\n",
    "plan_parser.invoke(\n",
    "    plan_evaluater_chain.invoke(\n",
    "        {\n",
    "            \"replace_plan\": \"Your device can be replaced.\",\n",
    "            \"repair_plan\": \"The total cost to fix the product is 150 USD.\",\n",
    "            \"tradein_plan\": \"You can get a 100 USD coupon if you want to trade in your old device for a new one.\",\n",
    "            \"user_preference\": \"None\",\n",
    "        }\n",
    "    )\n",
    ")"
   ]
  },
  {
   "cell_type": "code",
   "execution_count": 16,
   "metadata": {},
   "outputs": [
    {
     "data": {
      "text/plain": [
       "{'Analysis': 'The product cannot be replaced without a warranty. For repair, the cost for fixing the old device is 120 USD. For Trade-in, the cost for a new device is 249 USD, and the user can get a coupon. So the user will spend 149 USD for the new device. Therefore, it is better to repair the old device as the cost is lower.',\n",
       " 'Cost': '120 USD',\n",
       " 'Plan': 'Repair',\n",
       " 'Utterance': 'It would be more cost-effective to repair your old device. The cost for fixing it is 120 USD, while buying a new device even with a trade-in coupon would cost you 149 USD.'}"
      ]
     },
     "execution_count": 16,
     "metadata": {},
     "output_type": "execute_result"
    }
   ],
   "source": [
    "from langchain_core.runnables import RunnableParallel\n",
    "\n",
    "# The tot structure\n",
    "repair_strategy_chain = repair_strategy_prompt | langchain_llm | repair_parser\n",
    "replacement_strategy_chain = (\n",
    "    replacement_strategy_prompt | langchain_llm | replacement_parser\n",
    ")\n",
    "tradein_strategy_chain = tradein_strategy_prompt | langchain_llm | tradein_parser\n",
    "\n",
    "tot_generater = RunnableParallel(repair_plan = repair_strategy_chain, replace_plan = replacement_strategy_chain, tradein_plan = tradein_strategy_chain)\n",
    "\n",
    "plan_output = tot_generater.invoke({\n",
    "    \"user_input\": \"The screen is broken, I want to replace it.\",\n",
    "    \"additional_info\": \"No warranty\"\n",
    "})\n",
    "\n",
    "tot_scorer = plan_selection_prompt | langchain_llm | plan_parser\n",
    "\n",
    "tot_scorer.invoke({\n",
    "    \"replace_plan\": plan_output[\"replace_plan\"][\"Utterance\"],\n",
    "    \"repair_plan\": plan_output[\"repair_plan\"][\"Utterance\"],\n",
    "    \"tradein_plan\": plan_output[\"tradein_plan\"][\"Utterance\"],\n",
    "    \"user_preference\": \"None\",\n",
    "})"
   ]
  },
  {
   "cell_type": "markdown",
   "metadata": {},
   "source": [
    "## Tree of Thought\n",
    "\n",
    "* More complicated repairing scenario. Add time and budget constrain to the repairing process.\n",
    "\n",
    "<center><img src=\"doc/figs/XoT_Tutorial_Diagrams-ToT.svg\" alt=\"ToT Structure\" style=\"width: 400;\"/></center>"
   ]
  },
  {
   "cell_type": "code",
   "execution_count": 17,
   "metadata": {},
   "outputs": [
    {
     "data": {
      "text/plain": [
       "{'Analysis': 'The product is under warranty, so the user can get a free replacement for the broken screen. The cost to repair the device is 120 USD, and the cost for a new device is 249 USD with a 100 USD coupon available for trade-in. Since the product is under warranty, the replacement is the best option as it costs 0 USD.',\n",
       " 'Cost': '0 USD',\n",
       " 'Plan': 'Replace',\n",
       " 'Utterance': 'Your product is under warranty, so you can get a free replacement for the broken screen. This is the best option since it will cost you nothing.'}"
      ]
     },
     "metadata": {},
     "output_type": "display_data"
    }
   ],
   "source": [
    "plan_output_2 = tot_generater.invoke(\n",
    "    {\n",
    "        \"user_input\": \"The screen is broken, I want to replace it.\",\n",
    "        \"additional_info\": \"I have warranty.\",\n",
    "    }\n",
    ")\n",
    "first_layer_plan = tot_scorer.invoke(\n",
    "    {\n",
    "        \"replace_plan\": plan_output_2[\"replace_plan\"][\"Utterance\"],\n",
    "        \"repair_plan\": plan_output_2[\"repair_plan\"][\"Utterance\"],\n",
    "        \"tradein_plan\": plan_output_2[\"tradein_plan\"][\"Utterance\"],\n",
    "        \"user_preference\": \"None\",\n",
    "    }\n",
    ")\n",
    "display(first_layer_plan)"
   ]
  },
  {
   "cell_type": "code",
   "execution_count": 18,
   "metadata": {},
   "outputs": [
    {
     "data": {
      "text/plain": [
       "{'Analysis': 'The product is under warranty, so the user can get a free replacement for the broken screen. The cost to repair the device is 120 USD, and the cost for a new device is 249 USD with a 100 USD coupon available for trade-in. Since the product is under warranty, the replacement is the best option as it costs 0 USD.',\n",
       " 'Cost': '0 USD',\n",
       " 'Time': 'Get a space grey tablet now as it is in stock.',\n",
       " 'Plan': 'Replace',\n",
       " 'Utterance': 'Your product is under warranty, so you can get a free replacement for the broken screen. This is the best option since it will cost you nothing. You can get a space grey tablet now as it is in stock.'}"
      ]
     },
     "execution_count": 18,
     "metadata": {},
     "output_type": "execute_result"
    }
   ],
   "source": [
    "from utils.timebased_generator import get_time_contrain_of_plans, time_aware_plan_parser, time_aware_plan_selection_prompt\n",
    "\n",
    "\n",
    "time_aware_tot_scorer = time_aware_plan_selection_prompt | langchain_llm | time_aware_plan_parser\n",
    "\n",
    "second_layer_plan = get_time_contrain_of_plans(first_layer_plan)\n",
    "\n",
    "time_aware_tot_scorer.invoke({\n",
    "    \"plans\": second_layer_plan,\n",
    "})\n"
   ]
  },
  {
   "cell_type": "markdown",
   "metadata": {},
   "source": [
    "## GoT structure\n",
    "\n",
    "* We can reuse all the previous chains to form a GoT structure.\n",
    "* Before that, we need to introduce two extra chain, one for collecting tech issue, one for generating questions for collecting tech issues from users.\n",
    "* GoT structure is shown below:\n",
    "\n",
    "<center><img src=\"doc/figs/XoT_Tutorial_Diagrams-GoT.svg\" alt=\"GoT Structure\" style=\"width: 400;\"/></center>\n"
   ]
  },
  {
   "cell_type": "code",
   "execution_count": 19,
   "metadata": {},
   "outputs": [],
   "source": [
    "# upon receiving user input, all nodes will update its internal state\n",
    "from utils.techissue_analyser import tech_issue_analyser_prompt, tech_issue_analyser_parser\n",
    "\n",
    "tech_issue_analyser_chain = tech_issue_analyser_prompt | langchain_llm | tech_issue_analyser_parser"
   ]
  },
  {
   "cell_type": "code",
   "execution_count": 20,
   "metadata": {},
   "outputs": [
    {
     "data": {
      "text/plain": [
       "{'tech_issue': ['Screen', 'Charging port']}"
      ]
     },
     "execution_count": 20,
     "metadata": {},
     "output_type": "execute_result"
    }
   ],
   "source": [
    "tech_issue_analyser_chain.invoke(\n",
    "    {\n",
    "        \"chat_history\": \"I bought this item on May 1st, 2023. \\n The screen is broken, I want to replace it. \\n It does not charge at the moment\",\n",
    "        \"user_input\": \"Please help.\"\n",
    "    }\n",
    ")"
   ]
  },
  {
   "cell_type": "code",
   "execution_count": 21,
   "metadata": {},
   "outputs": [
    {
     "data": {
      "text/plain": [
       "{'Analysis': 'The user is unsure about the warranty. Without knowing the purchase date or whether additional warranty was bought, we cannot determine if the product is still under warranty.',\n",
       " 'Warranty': 'Unsure',\n",
       " 'Utterance': \"I understand that you're unsure. Could you check any purchase receipts or emails to find out when the product was purchased? That information will help determine the warranty status.\"}"
      ]
     },
     "execution_count": 21,
     "metadata": {},
     "output_type": "execute_result"
    }
   ],
   "source": [
    "warranty_checker_fullchain = warranty_checker_prompt | langchain_llm | warranty_parser\n",
    "warranty_checker_fullchain.invoke({\"user_input\": \"I'm not sure\"})"
   ]
  },
  {
   "cell_type": "code",
   "execution_count": 22,
   "metadata": {},
   "outputs": [
    {
     "data": {
      "text/plain": [
       "{'utterance': \"I understand that you're unsure. Could you check any purchase receipts or emails to find out when the product was purchased? That information will help determine the warranty status.\"}"
      ]
     },
     "execution_count": 22,
     "metadata": {},
     "output_type": "execute_result"
    }
   ],
   "source": [
    "# A simple GoT Prompter: decide what question to ask based on the required information.\n",
    "from utils.question_generator import (\n",
    "    question_generator_prompt,\n",
    "    question_generator_parser,\n",
    ")  # The parser\n",
    "\n",
    "question_generator_chain = (\n",
    "    question_generator_prompt | langchain_llm | question_generator_parser\n",
    ")\n",
    "\n",
    "question_generator_chain.invoke(\n",
    "    {\n",
    "        \"chat_history\": \"\",\n",
    "        \"required_information\": \"preference (how much repair fee can afford?)\",\n",
    "        \"suggested_question\": \"\",\n",
    "    }\n",
    ")\n",
    "\n",
    "question_generator_chain.invoke(\n",
    "    {\n",
    "        \"chat_history\": \"\",\n",
    "        \"required_information\": \"if user's product have warranty\",\n",
    "        \"suggested_question\": \"I understand that you're unsure. Could you check any purchase receipts or emails to find out when the product was purchased? That information will help determine the warranty status.\",\n",
    "    }\n",
    ")\n",
    "\n",
    "# A simple GoT Controller: ask twice for the required information, and then generate a plan\n",
    "# See the chatbot"
   ]
  },
  {
   "cell_type": "code",
   "execution_count": 23,
   "metadata": {},
   "outputs": [],
   "source": [
    "from chatbot import Chatbot\n",
    "\n",
    "customer_chatbot = Chatbot()"
   ]
  },
  {
   "cell_type": "code",
   "execution_count": 24,
   "metadata": {},
   "outputs": [
    {
     "data": {
      "text/plain": [
       "'Hello! This is repairing bot. I can help you diagnose your tablet and provide you a repairing suggestion. How can I help you today?'"
      ]
     },
     "execution_count": 24,
     "metadata": {},
     "output_type": "execute_result"
    }
   ],
   "source": [
    "customer_chatbot.interact(\"hello\")"
   ]
  },
  {
   "cell_type": "code",
   "execution_count": 25,
   "metadata": {},
   "outputs": [
    {
     "data": {
      "text/plain": [
       "'Could you please provide me more information about the issue of your tablet? And when did you purchased this item?'"
      ]
     },
     "execution_count": 25,
     "metadata": {},
     "output_type": "execute_result"
    }
   ],
   "source": [
    "customer_chatbot.interact(\"I want to repair my tablet\")"
   ]
  },
  {
   "cell_type": "code",
   "execution_count": 26,
   "metadata": {},
   "outputs": [
    {
     "data": {
      "text/plain": [
       "'I am sorry to hear that. To determine if your product is still under warranty, could you please provide the purchase date?'"
      ]
     },
     "execution_count": 26,
     "metadata": {},
     "output_type": "execute_result"
    }
   ],
   "source": [
    "customer_chatbot.interact(\"Yeah, the screen is always black and there is no audio.\")"
   ]
  },
  {
   "cell_type": "code",
   "execution_count": 27,
   "metadata": {},
   "outputs": [
    {
     "data": {
      "text/plain": [
       "'I am sorry to hear that. But I need to know if the product has warranty. Could you provide me the time of purchase?'"
      ]
     },
     "execution_count": 27,
     "metadata": {},
     "output_type": "execute_result"
    }
   ],
   "source": [
    "customer_chatbot.interact(\"Sorry I don't know\")"
   ]
  },
  {
   "cell_type": "code",
   "execution_count": 28,
   "metadata": {},
   "outputs": [
    {
     "data": {
      "text/plain": [
       "\"Based on the information you provided, I can generate a rought plan for you. It may take a few seconds. If you want me to generate a plan for you, please reply 'Generate a plan'. If you want to end the conversation, please reply 'Exit'.\""
      ]
     },
     "execution_count": 28,
     "metadata": {},
     "output_type": "execute_result"
    }
   ],
   "source": [
    "customer_chatbot.interact(\"I'm not sure\")"
   ]
  },
  {
   "cell_type": "code",
   "execution_count": 29,
   "metadata": {},
   "outputs": [
    {
     "data": {
      "text/plain": [
       "'Maybe you should consider buying a new device instead of fixing the old one. The cost for fixing the old device is 180 USD, and the cost for a new device is 249 USD. You can get a 100 USD coupon if you want to trade in your old device for a new one. The total cost for the new device after the trade-in will be 149 USD. You can get a space grey tablet now as it is in stock.'"
      ]
     },
     "execution_count": 29,
     "metadata": {},
     "output_type": "execute_result"
    }
   ],
   "source": [
    "customer_chatbot.interact(\"Generate a plan\")"
   ]
  },
  {
   "cell_type": "code",
   "execution_count": null,
   "metadata": {},
   "outputs": [],
   "source": []
  }
 ],
 "metadata": {
  "kernelspec": {
   "display_name": "xot_tutorial",
   "language": "python",
   "name": "python3"
  },
  "language_info": {
   "codemirror_mode": {
    "name": "ipython",
    "version": 3
   },
   "file_extension": ".py",
   "mimetype": "text/x-python",
   "name": "python",
   "nbconvert_exporter": "python",
   "pygments_lexer": "ipython3",
   "version": "3.12.3"
  }
 },
 "nbformat": 4,
 "nbformat_minor": 2
}
